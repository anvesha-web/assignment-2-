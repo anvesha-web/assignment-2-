{
 "cells": [
  {
   "cell_type": "markdown",
   "id": "0fbc899b-1d1d-44e6-9952-894f6ecc5bea",
   "metadata": {},
   "source": [
    "Files and exceptional handling assignment \n",
    "\n",
    "theoritical questions \n",
    "\n",
    "1 What is the difference between interpreted and compiled languages?\n",
    "Interpreted: Code is executed line by line by an interpreter (e.g., Python). Slower but easier to debug.\n",
    "Compiled: Entire code is translated into machine code before execution (e.g., C++). Faster but less flexible.\n",
    "\n",
    "2 What is exception handling in Python?\n",
    "Exception handling is a mechanism to deal with runtime errors gracefully using try, except, else, and finally block\n",
    "\n",
    "3 What is the purpose of the finally block in exception handling?\n",
    "The finally block always executes, regardless of whether an exception occurred. It's used for cleanup (e.g., closing files).\n",
    "\n",
    "4 What is logging in Python?\n",
    "Logging is a way to record events (errors, warnings, info, debug messages) during program execution for debugging and monitoring.\n",
    "\n",
    "5 What is the significance of the __del__ method in Python?\n",
    "__del__ is a destructor method called when an object is about to be destroyed. It’s used for cleanup (e.g., releasing resources).\n",
    "\n",
    "6 What is the difference between import and from ... import in Python?\n",
    "import module → imports the whole module, access via module.function().\n",
    "from module import function → imports specific functions/objects directly.\n",
    "\n",
    "7 How can you handle multiple exceptions in Python?\n",
    "Using multiple except blocks:\n"
   ]
  },
  {
   "cell_type": "code",
   "execution_count": 1,
   "id": "7f5875a6-0374-41b8-8247-6723d50528f6",
   "metadata": {},
   "outputs": [],
   "source": [
    "try:\n",
    "    ...\n",
    "except ValueError:\n",
    "    ...\n",
    "except TypeError:\n",
    "    ...\n"
   ]
  },
  {
   "cell_type": "markdown",
   "id": "49c9e0a1-9f87-4f32-a491-7cd0ad044f09",
   "metadata": {},
   "source": [
    "8 What is the purpose of the with statement when handling files in Python?\n",
    "It ensures the file is automatically closed after use, even if an error occurs.\n",
    "\n",
    "9 What is the difference between multithreading and multiprocessing?\n",
    "Multithreading: Multiple threads share the same memory space. Good for I/O-bound tasks.\n",
    "Multiprocessing: Multiple processes run independently with separate memory. Good for CPU-bound tasks.\n",
    "\n",
    "10 What are the advantages of using logging in a program?\n",
    "Better than print() for debugging.\n",
    "Can save logs to files.\n",
    "Supports different levels (INFO, ERROR, etc.).\n",
    "Helps in monitoring and auditing.\n",
    "\n",
    "11 What is memory management in Python?\n",
    "It’s how Python handles memory allocation and deallocation, including garbage collection and reference counting.\n",
    "\n",
    "12 What are the basic steps involved in exception handling in Python?\n",
    "Write risky code inside try.\n",
    "Handle error in except.\n",
    "Optional else block executes if no exception.\n",
    "finally executes always for cleanup.\n",
    "\n",
    "13 Why is memory management important in Python?\n",
    "Prevents memory leaks.\n",
    "Ensures efficient use of resources.\n",
    "Improves performance and stability.\n",
    "\n",
    "14 What is the role of try and except in exception handling?\n",
    "try: Wraps code that might throw an error.\n",
    "except: Defines how to handle the error if it occurs.\n",
    "\n",
    "15 How does Python's garbage collection system work?\n",
    "Uses reference counting (tracks object references).\n",
    "Uses garbage collector for cyclic references (objects referring to each other).\n",
    "\n",
    "16 What is the purpose of the else block in exception handling?\n",
    "The else block runs only if no exception occurs in the try block.\n",
    "\n",
    "17 What are the common logging levels in Python?\n",
    "DEBUG → Detailed info (for developers).\n",
    "INFO → General information.\n",
    "WARNING → Something unexpected but not fatal.\n",
    "ERROR → A serious issue occurred.\n",
    "CRITICAL → Very serious error, program may crash.\n",
    "\n",
    "18 What is the difference between os.fork() and multiprocessing in Python?\n",
    "os.fork() → Unix-only, creates a new process by duplicating the current one.\n",
    "multiprocessing → Cross-platform library that spawns processes in a Pythonic way.\n",
    "\n",
    "19 What is the importance of closing a file in Python?\n",
    "Frees system resources.\n",
    "Ensures data is written (flushed) to disk.\n",
    "Prevents file corruption.\n",
    "\n",
    "20 What is the difference between file.read() and file.readline() in Python?\n",
    "read() → Reads the entire file (or specified number of bytes).\n",
    "readline() → Reads one line at a time.\n",
    "\n",
    "21 What is the logging module in Python used for?\n",
    "It provides functions and classes to record log messages, configure logging levels, and store logs in files or other outputs.\n",
    "\n",
    "22 What is the os module in Python used for in file handling?\n",
    "The os module lets you interact with the operating system: create/remove directories, check file paths, change directories, etc.\n",
    "\n",
    "23 What are the challenges associated with memory management in Python?\n",
    "Memory leaks from circular references.\n",
    "Large objects occupying unnecessary space.\n",
    "Garbage collection overhead in performance-critical applications."
   ]
  },
  {
   "cell_type": "code",
   "execution_count": 2,
   "id": "665e4ada-26a5-4aea-9efa-018fde242010",
   "metadata": {},
   "outputs": [],
   "source": [
    "#practical questions \n",
    "#1 How can you open a file for writing in Python and write a string to it?\n",
    "with open(\"example.txt\", \"w\") as f:\n",
    "    f.write(\"Hello, Python!\")\n",
    "\n"
   ]
  },
  {
   "cell_type": "code",
   "execution_count": 3,
   "id": "effb8a5b-b98b-40f5-8672-1952d4b6e2a2",
   "metadata": {},
   "outputs": [
    {
     "name": "stdout",
     "output_type": "stream",
     "text": [
      "Hello, Python!\n"
     ]
    }
   ],
   "source": [
    "#2 Write a Python program to read the contents of a file and print each line.\n",
    "with open(\"example.txt\", \"r\") as f:\n",
    "    for line in f:\n",
    "        print(line.strip())\n"
   ]
  },
  {
   "cell_type": "code",
   "execution_count": 4,
   "id": "8b3ac338-35ce-471c-88bf-898397062bbe",
   "metadata": {},
   "outputs": [
    {
     "name": "stdout",
     "output_type": "stream",
     "text": [
      "File does not exist.\n"
     ]
    }
   ],
   "source": [
    "#3 How would you handle a case where the file doesn't exist while trying to open it for reading?\n",
    "try:\n",
    "    with open(\"notfound.txt\", \"r\") as f:\n",
    "        print(f.read())\n",
    "except FileNotFoundError:\n",
    "    print(\"File does not exist.\")\n"
   ]
  },
  {
   "cell_type": "code",
   "execution_count": 6,
   "id": "968ed2ac-3ee1-4c2f-b026-03a7fe83eb60",
   "metadata": {},
   "outputs": [
    {
     "name": "stdout",
     "output_type": "stream",
     "text": [
      "The file 'input.txt' does not exist.\n"
     ]
    }
   ],
   "source": [
    "#4 Python script that reads from one file and writes its content to another\n",
    "# read_write_file.py\n",
    "try:\n",
    "    with open(\"input.txt\", \"r\") as infile:\n",
    "        content = infile.read()\n",
    "\n",
    "    with open(\"output.txt\", \"w\") as outfile:\n",
    "        outfile.write(content)\n",
    "\n",
    "except FileNotFoundError:\n",
    "    print(\"The file 'input.txt' does not exist.\")\n",
    "except IOError:\n",
    "    print(\"An error occurred while reading or writing files.\")\n",
    "\n"
   ]
  },
  {
   "cell_type": "code",
   "execution_count": 7,
   "id": "f942ab5c-0f67-4b04-992f-6619b0031183",
   "metadata": {},
   "outputs": [
    {
     "name": "stdout",
     "output_type": "stream",
     "text": [
      "Error: Division by zero is not allowed.\n"
     ]
    }
   ],
   "source": [
    " # 5Catch and handle division by zero\n",
    "try:\n",
    "    x = 10 / 0\n",
    "except ZeroDivisionError:\n",
    "    print(\"Error: Division by zero is not allowed.\")\n"
   ]
  },
  {
   "cell_type": "code",
   "execution_count": 8,
   "id": "e5154fe0-2720-4f03-b751-03c574225ac0",
   "metadata": {},
   "outputs": [],
   "source": [
    "# 6 Log error message when division by zero occurs\n",
    "import logging\n",
    "\n",
    "logging.basicConfig(filename=\"errors.log\", level=logging.ERROR)\n",
    "\n",
    "try:\n",
    "    result = 10 / 0\n",
    "except ZeroDivisionError as e:\n",
    "    logging.error(f\"Division by zero error: {e}\")\n"
   ]
  },
  {
   "cell_type": "code",
   "execution_count": 9,
   "id": "f98201c7-2df6-4ad8-a70e-cedbc1a5e36b",
   "metadata": {},
   "outputs": [],
   "source": [
    "#7 Log at different levels\n",
    "import logging\n",
    "\n",
    "logging.basicConfig(level=logging.DEBUG)\n",
    "\n",
    "logging.info(\"This is an INFO message\")\n",
    "logging.warning(\"This is a WARNING message\")\n",
    "logging.error(\"This is an ERROR message\")\n"
   ]
  },
  {
   "cell_type": "code",
   "execution_count": 10,
   "id": "7c2c845f-1800-47c2-86b1-27e6638d05ce",
   "metadata": {},
   "outputs": [
    {
     "name": "stdout",
     "output_type": "stream",
     "text": [
      "File not found!\n"
     ]
    }
   ],
   "source": [
    "#8 Handle file opening error\n",
    "try:\n",
    "    with open(\"non_existing.txt\", \"r\") as f:\n",
    "        print(f.read())\n",
    "except FileNotFoundError:\n",
    "    print(\"File not found!\")\n"
   ]
  },
  {
   "cell_type": "code",
   "execution_count": 26,
   "id": "6ea274e2-882c-4451-9a7b-52cb75861ad4",
   "metadata": {},
   "outputs": [
    {
     "name": "stdout",
     "output_type": "stream",
     "text": [
      "['Hello, Python!']\n"
     ]
    }
   ],
   "source": [
    "# 9Read file line by line into a list\n",
    "\n",
    "lines = []\n",
    "with open(\"example.txt\", \"r\") as file:\n",
    "    for line in file:\n",
    "        lines.append(line.strip())  # Strip removes \\n\n",
    "\n",
    "print(lines)\n",
    "\n"
   ]
  },
  {
   "cell_type": "code",
   "execution_count": 12,
   "id": "18ea3d7e-8b11-45e2-869b-0e4c8c32cf77",
   "metadata": {},
   "outputs": [],
   "source": [
    "# 10 Append data to an existing file\n",
    "with open(\"output.txt\", \"a\") as f:\n",
    "    f.write(\"\\nNew appended line\")\n"
   ]
  },
  {
   "cell_type": "code",
   "execution_count": 13,
   "id": "9b5e6de9-3a5f-46cb-b620-c8300246059a",
   "metadata": {},
   "outputs": [
    {
     "name": "stdout",
     "output_type": "stream",
     "text": [
      "Key does not exist!\n"
     ]
    }
   ],
   "source": [
    "#11 Handle missing dictionary key\n",
    "data = {\"name\": \"Alice\"}\n",
    "\n",
    "try:\n",
    "    print(data[\"age\"])\n",
    "except KeyError:\n",
    "    print(\"Key does not exist!\")\n"
   ]
  },
  {
   "cell_type": "code",
   "execution_count": 14,
   "id": "1ba3032b-5956-48bc-a449-32747051a2c9",
   "metadata": {},
   "outputs": [
    {
     "name": "stdout",
     "output_type": "stream",
     "text": [
      "Invalid conversion to integer\n"
     ]
    }
   ],
   "source": [
    "#12 Multiple except blocks\n",
    "try:\n",
    "    num = int(\"abc\")   # ValueError\n",
    "    result = 10 / 0    # ZeroDivisionError\n",
    "except ValueError:\n",
    "    print(\"Invalid conversion to integer\")\n",
    "except ZeroDivisionError:\n",
    "    print(\"Division by zero\")\n"
   ]
  },
  {
   "cell_type": "code",
   "execution_count": 15,
   "id": "7c637a83-47a1-4a8f-bb4b-b69a6bb324d7",
   "metadata": {},
   "outputs": [
    {
     "name": "stdout",
     "output_type": "stream",
     "text": [
      "File does not exist\n"
     ]
    }
   ],
   "source": [
    "#13 Check if a file exists\n",
    "import os\n",
    "\n",
    "if os.path.exists(\"input.txt\"):\n",
    "    with open(\"input.txt\") as f:\n",
    "        print(f.read())\n",
    "else:\n",
    "    print(\"File does not exist\")\n"
   ]
  },
  {
   "cell_type": "code",
   "execution_count": 16,
   "id": "a2aa5d4f-b11d-404b-a707-5c237ce16a65",
   "metadata": {},
   "outputs": [],
   "source": [
    "#14 Log informational and error messages\n",
    "import logging\n",
    "\n",
    "logging.basicConfig(filename=\"app.log\", level=logging.INFO)\n",
    "\n",
    "logging.info(\"Application started\")\n",
    "try:\n",
    "    x = 10 / 0\n",
    "except ZeroDivisionError as e:\n",
    "    logging.error(f\"Error occurred: {e}\")\n"
   ]
  },
  {
   "cell_type": "code",
   "execution_count": 27,
   "id": "214143c4-c45f-4d05-bfc0-5bce9d1a70f1",
   "metadata": {},
   "outputs": [
    {
     "name": "stdout",
     "output_type": "stream",
     "text": [
      "File Content:\n",
      " Hello, Python!\n"
     ]
    }
   ],
   "source": [
    "#15 Print file content, handle empty file\n",
    "\n",
    "def print_file_content(filename):\n",
    "    try:\n",
    "        with open(filename, \"r\") as file:\n",
    "            content = file.read().strip()\n",
    "            if content:  # Check if file is not empty\n",
    "                print(\"File Content:\\n\", content)\n",
    "            else:\n",
    "                print(\"The file is empty.\")\n",
    "    except FileNotFoundError:\n",
    "        print(f\"Error: The file '{filename}' does not exist.\")\n",
    "\n",
    "# Example usage\n",
    "print_file_content(\"example.txt\")\n"
   ]
  },
  {
   "cell_type": "code",
   "execution_count": 29,
   "id": "1ddc3160-f7b2-465d-b00b-93e4a44d5c99",
   "metadata": {},
   "outputs": [],
   "source": [
    "#16 Memory profiling\n",
    "# Install memory-profiler first: pip install memory-profiler\n",
    "\n",
    "\n"
   ]
  },
  {
   "cell_type": "code",
   "execution_count": 19,
   "id": "f6dbcb92-4b5c-4302-be28-7960be62469c",
   "metadata": {},
   "outputs": [],
   "source": [
    "#17 Write list of numbers to file\n",
    "numbers = [1, 2, 3, 4, 5]\n",
    "\n",
    "with open(\"numbers.txt\", \"w\") as f:\n",
    "    for num in numbers:\n",
    "        f.write(str(num) + \"\\n\")\n",
    "\n"
   ]
  },
  {
   "cell_type": "code",
   "execution_count": 20,
   "id": "47d97f9f-695a-4fc7-a44e-8cd92fab1c1a",
   "metadata": {},
   "outputs": [],
   "source": [
    "#18 Logging with rotation after 1MB\n",
    "import logging\n",
    "from logging.handlers import RotatingFileHandler\n",
    "\n",
    "handler = RotatingFileHandler(\"rotating.log\", maxBytes=1_000_000, backupCount=3)\n",
    "logging.basicConfig(handlers=[handler], level=logging.INFO)\n",
    "\n",
    "for i in range(10000):\n",
    "    logging.info(f\"Log entry {i}\")\n"
   ]
  },
  {
   "cell_type": "code",
   "execution_count": 21,
   "id": "ed33b1d2-872e-484a-8b29-43161645bceb",
   "metadata": {},
   "outputs": [
    {
     "name": "stdout",
     "output_type": "stream",
     "text": [
      "Index out of range!\n"
     ]
    }
   ],
   "source": [
    "#19 handle both IndexError and KeyError\n",
    "try:\n",
    "    my_list = [1, 2, 3]\n",
    "    print(my_list[5])  # IndexError\n",
    "    my_dict = {\"a\": 1}\n",
    "    print(my_dict[\"b\"])  # KeyError\n",
    "except IndexError:\n",
    "    print(\"Index out of range!\")\n",
    "except KeyError:\n",
    "    print(\"Key not found!\")\n",
    "\n"
   ]
  },
  {
   "cell_type": "code",
   "execution_count": 30,
   "id": "4d251e59-bbb9-4931-8c26-2bd9ef525851",
   "metadata": {},
   "outputs": [
    {
     "name": "stdout",
     "output_type": "stream",
     "text": [
      "Hello, Python!\n"
     ]
    }
   ],
   "source": [
    "#20 Open file using context manager\n",
    "\n",
    "# Open and read file using context manager\n",
    "with open(\"example.txt\", \"r\") as file:\n",
    "    content = file.read()\n",
    "\n",
    "print(content)\n",
    "\n"
   ]
  },
  {
   "cell_type": "code",
   "execution_count": 31,
   "id": "70b16576-81e0-4943-b406-7cf30bedf510",
   "metadata": {},
   "outputs": [
    {
     "name": "stdout",
     "output_type": "stream",
     "text": [
      "The word 'python' occurs 0 times in the file.\n"
     ]
    }
   ],
   "source": [
    "#21 Count occurrences of a word in a file\n",
    "\n",
    "def count_word_occurrences(filename, word):\n",
    "    try:\n",
    "        with open(filename, \"r\") as file:\n",
    "            text = file.read().lower()   # read all text and convert to lowercase\n",
    "            count = text.split().count(word.lower())  # count exact word matches\n",
    "        print(f\"The word '{word}' occurs {count} times in the file.\")\n",
    "    except FileNotFoundError:\n",
    "        print(f\"Error: The file '{filename}' does not exist.\")\n",
    "\n",
    "# Example usage\n",
    "count_word_occurrences(\"example.txt\", \"python\")\n"
   ]
  },
  {
   "cell_type": "code",
   "execution_count": 24,
   "id": "5d4dff80-f081-43a9-a215-88d839c3bf49",
   "metadata": {},
   "outputs": [
    {
     "ename": "FileNotFoundError",
     "evalue": "[WinError 2] The system cannot find the file specified: 'input.txt'",
     "output_type": "error",
     "traceback": [
      "\u001b[31m---------------------------------------------------------------------------\u001b[39m",
      "\u001b[31mFileNotFoundError\u001b[39m                         Traceback (most recent call last)",
      "\u001b[36mCell\u001b[39m\u001b[36m \u001b[39m\u001b[32mIn[24]\u001b[39m\u001b[32m, line 5\u001b[39m\n\u001b[32m      1\u001b[39m \u001b[38;5;66;03m#22 Check if a file is empty\u001b[39;00m\n\u001b[32m      3\u001b[39m \u001b[38;5;28;01mimport\u001b[39;00m\u001b[38;5;250m \u001b[39m\u001b[34;01mos\u001b[39;00m\n\u001b[32m----> \u001b[39m\u001b[32m5\u001b[39m \u001b[38;5;28;01mif\u001b[39;00m \u001b[43mos\u001b[49m\u001b[43m.\u001b[49m\u001b[43mpath\u001b[49m\u001b[43m.\u001b[49m\u001b[43mgetsize\u001b[49m\u001b[43m(\u001b[49m\u001b[33;43m\"\u001b[39;49m\u001b[33;43minput.txt\u001b[39;49m\u001b[33;43m\"\u001b[39;49m\u001b[43m)\u001b[49m == \u001b[32m0\u001b[39m:\n\u001b[32m      6\u001b[39m     \u001b[38;5;28mprint\u001b[39m(\u001b[33m\"\u001b[39m\u001b[33mFile is empty\u001b[39m\u001b[33m\"\u001b[39m)\n\u001b[32m      7\u001b[39m \u001b[38;5;28;01melse\u001b[39;00m:\n",
      "\u001b[36mFile \u001b[39m\u001b[32m<frozen genericpath>:86\u001b[39m, in \u001b[36mgetsize\u001b[39m\u001b[34m(filename)\u001b[39m\n",
      "\u001b[31mFileNotFoundError\u001b[39m: [WinError 2] The system cannot find the file specified: 'input.txt'"
     ]
    }
   ],
   "source": [
    "#22 Check if a file is empty\n",
    "\n",
    "\n"
   ]
  },
  {
   "cell_type": "code",
   "execution_count": 25,
   "id": "059cdab6-14f5-4818-8bd8-3391c2e725f7",
   "metadata": {},
   "outputs": [],
   "source": [
    "#23 Log error during file handling\n",
    "import logging\n",
    "\n",
    "logging.basicConfig(filename=\"file_errors.log\", level=logging.ERROR)\n",
    "\n",
    "try:\n",
    "    with open(\"missing.txt\", \"r\") as f:\n",
    "        print(f.read())\n",
    "except FileNotFoundError as e:\n",
    "    logging.error(f\"File error: {e}\")\n",
    "\n"
   ]
  },
  {
   "cell_type": "code",
   "execution_count": null,
   "id": "bf240390-e24e-4939-972c-d9b44063877e",
   "metadata": {},
   "outputs": [],
   "source": []
  }
 ],
 "metadata": {
  "kernelspec": {
   "display_name": "Python 3 (ipykernel)",
   "language": "python",
   "name": "python3"
  },
  "language_info": {
   "codemirror_mode": {
    "name": "ipython",
    "version": 3
   },
   "file_extension": ".py",
   "mimetype": "text/x-python",
   "name": "python",
   "nbconvert_exporter": "python",
   "pygments_lexer": "ipython3",
   "version": "3.13.2"
  }
 },
 "nbformat": 4,
 "nbformat_minor": 5
}
